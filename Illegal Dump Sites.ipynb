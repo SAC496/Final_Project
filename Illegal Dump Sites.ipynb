{
 "cells": [
  {
   "cell_type": "code",
   "execution_count": 28,
   "metadata": {},
   "outputs": [
    {
     "name": "stdout",
     "output_type": "stream",
     "text": [
      "Allentown                 0.5\n",
      "Allentown                 3.0\n",
      "Allentown                 1.0\n",
      "Allentown                 0.5\n",
      "Allentown                 0.1\n",
      "                         ... \n",
      "Wilkinsburg               0.3\n",
      "Wilkinsburg/Penn Hills    6.0\n",
      "Windgap                   2.0\n",
      "Windgap                   0.5\n",
      "Windgap                   1.5\n",
      "Length: 882, dtype: float64\n"
     ]
    }
   ],
   "source": [
    "import pandas as pd\n",
    "import numpy as np\n",
    "data = pd.read_csv(\"illegaldumpsites.csv\")\n",
    "neigh = []\n",
    "tons = []\n",
    "for index, row in data.iterrows():\n",
    "    try:\n",
    "        tons.append(float(row[\"estimated_tons\"]))\n",
    "        neigh.append(row[\"Neighborhood\"])\n",
    "    except:\n",
    "        pass\n",
    "dumps = pd.Series(tons, index = neigh)\n",
    "print(dumps)"
   ]
  },
  {
   "cell_type": "code",
   "execution_count": null,
   "metadata": {},
   "outputs": [],
   "source": []
  }
 ],
 "metadata": {
  "kernelspec": {
   "display_name": "Python 3",
   "language": "python",
   "name": "python3"
  },
  "language_info": {
   "codemirror_mode": {
    "name": "ipython",
    "version": 3
   },
   "file_extension": ".py",
   "mimetype": "text/x-python",
   "name": "python",
   "nbconvert_exporter": "python",
   "pygments_lexer": "ipython3",
   "version": "3.8.3"
  }
 },
 "nbformat": 4,
 "nbformat_minor": 4
}
