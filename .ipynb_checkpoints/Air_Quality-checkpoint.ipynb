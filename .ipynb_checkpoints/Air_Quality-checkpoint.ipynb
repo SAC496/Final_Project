{
 "cells": [
  {
   "cell_type": "markdown",
   "metadata": {},
   "source": [
    "##Air Quality##"
   ]
  },
  {
   "cell_type": "code",
   "execution_count": 1,
   "metadata": {},
   "outputs": [],
   "source": [
    "import geopandas\n",
    "import pandas as pd\n",
    "import numpy as np\n",
    "%matplotlib inline\n",
    "import matplotlib.pyplot as plt"
   ]
  },
  {
   "cell_type": "code",
   "execution_count": 2,
   "metadata": {},
   "outputs": [],
   "source": [
    "data = pd.read_csv(\"Air_Quality.csv\")"
   ]
  },
  {
   "cell_type": "code",
   "execution_count": 4,
   "metadata": {},
   "outputs": [
    {
     "data": {
      "text/plain": [
       "{'Avalon': 4434,\n",
       " 'Clairton': 935,\n",
       " 'Flag Plaza': 4002,\n",
       " 'Glassport High Street': 2867,\n",
       " 'Harrison Township': 5570,\n",
       " 'Lawrenceville': 4408,\n",
       " 'Lawrenceville 2': 5734,\n",
       " 'Liberty': 2888,\n",
       " 'Liberty 2': 5656,\n",
       " 'Lincoln': 3574,\n",
       " 'North Braddock': 7277,\n",
       " 'Parkway East': 8602,\n",
       " 'Pittsburgh': 2635,\n",
       " 'South Fayette': 5009,\n",
       " 'West Mifflin': 301}"
      ]
     },
     "execution_count": 4,
     "metadata": {},
     "output_type": "execute_result"
    }
   ],
   "source": [
    "site = []\n",
    "\n",
    "\n",
    "# for index, row in data.iterrows():\n",
    "#     site.append(row[\"site\"])\n",
    "\n",
    "for index, row in data.iterrows():\n",
    "    if ro\n",
    "\n",
    "    \n",
    "\n",
    "    \n",
    "unique, counts = np.unique(site, return_counts=True)\n",
    "\n",
    "a = dict(zip(unique, counts))\n",
    "    \n",
    "a\n"
   ]
  },
  {
   "cell_type": "code",
   "execution_count": null,
   "metadata": {},
   "outputs": [],
   "source": []
  }
 ],
 "metadata": {
  "kernelspec": {
   "display_name": "Python 3",
   "language": "python",
   "name": "python3"
  },
  "language_info": {
   "codemirror_mode": {
    "name": "ipython",
    "version": 3
   },
   "file_extension": ".py",
   "mimetype": "text/x-python",
   "name": "python",
   "nbconvert_exporter": "python",
   "pygments_lexer": "ipython3",
   "version": "3.8.3"
  }
 },
 "nbformat": 4,
 "nbformat_minor": 4
}
