{
 "cells": [
  {
   "cell_type": "markdown",
   "metadata": {},
   "source": [
    "Requirements (what we need to include / what we're getting scored on): Intro, Metrix explanation, dataset explanation, results explanation, code explanation, conclusion, questions, timing (staying in time minimum / maximum very lenient \"No one ever goes over the time limit but if you do, it's fine\")\n",
    "\n",
    "We present 6th on 12/4 after group 11\n",
    "there's 8 presenting next monday"
   ]
  },
  {
   "cell_type": "markdown",
   "metadata": {},
   "source": [
    "Allegheny County Illegal Dump Sites, Allegheny County Air Quality, \n",
    "\n",
    "\n",
    "\n",
    "git add . \n",
    "git commit -m \"wah\"\n",
    "git push origin main\n",
    "\n",
    "git pull (the other person does to get edits)\n",
    "\n",
    "\n"
   ]
  }
 ],
 "metadata": {
  "kernelspec": {
   "display_name": "Python 3",
   "language": "python",
   "name": "python3"
  },
  "language_info": {
   "codemirror_mode": {
    "name": "ipython",
    "version": 3
   },
   "file_extension": ".py",
   "mimetype": "text/x-python",
   "name": "python",
   "nbconvert_exporter": "python",
   "pygments_lexer": "ipython3",
   "version": "3.8.3"
  }
 },
 "nbformat": 4,
 "nbformat_minor": 4
}
